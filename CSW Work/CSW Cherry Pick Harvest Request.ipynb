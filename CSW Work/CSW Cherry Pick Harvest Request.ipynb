{
 "cells": [
  {
   "cell_type": "code",
   "execution_count": 1,
   "metadata": {},
   "outputs": [
    {
     "name": "stdout",
     "output_type": "stream",
     "text": [
      "https://data.noaa.gov/dataset/csw?request=GetRecordById&service=CSW&version=2.0.2&elementSetName=full&id=xantuss-murrelet-at-sea-density-off-california1\n",
      "Status: 200\n",
      "https://data.noaa.gov/dataset/csw?request=GetRecordById&service=CSW&version=2.0.2&elementSetName=full&id=gov.noaa.nmfs.inport:39284\n",
      "Status: 200\n"
     ]
    }
   ],
   "source": [
    "import requests\n",
    "\n",
    "csw_source = 'https://data.noaa.gov/dataset/csw'\n",
    "qs = '?request=GetRecordById&service=CSW&version=2.0.2&elementSetName=full&id='\n",
    "layer_id = 'xantuss-murrelet-at-sea-density-off-california1'\n",
    "guid = 'gov.noaa.nmfs.inport:39284'\n",
    "li_url = '%s%s%s' % (csw_source, qs, layer_id)\n",
    "li_req = requests.get(li_url)\n",
    "print(li_url)\n",
    "print(\"Status: %d\" % li_req.status_code)\n",
    "# print(li_req.content)\n",
    "guid_url = '%s%s%s' % (csw_source, qs, guid)\n",
    "guid_req = requests.get(guid_url)\n",
    "print(guid_url)\n",
    "print(\"Status: %d\" % guid_req.status_code)\n",
    "# print(guid_req.content)"
   ]
  },
  {
   "cell_type": "code",
   "execution_count": 2,
   "metadata": {},
   "outputs": [
    {
     "name": "stdout",
     "output_type": "stream",
     "text": [
      "2\n",
      "Matches found: 2 of 2\n",
      "UID MATCH: gov.noaa.ngdc.mgg.dem:umpqua_river_p180_30m\n",
      "UID MATCH: gov.noaa.nmfs.inport:39284\n"
     ]
    }
   ],
   "source": [
    "# harvest_xml = 'XML/harvest_noaa_xantus.xml'\n",
    "harvest_xml = 'XML/generated.xml'\n",
    "xantus_response = requests.post(csw_source, data=open(harvest_xml).read()).text\n",
    "# print(xantus_response)\n",
    "import xml.etree.ElementTree as ET\n",
    "root = ET.fromstring(xantus_response)\n",
    "rec_response = root[1]\n",
    "print(rec_response.get('numberOfRecordsMatched'))\n",
    "\n",
    "dc_def = '{http://purl.org/dc/elements/1.1/}'\n",
    "dc_id_tag = \"%sidentifier\" % dc_def\n",
    "apiso_def = \"http://www.opengis.net/cat/csw/apiso/1.0\"\n",
    "apiso_id_tag = \"%sidentifier\" % apiso_def\n",
    "\n",
    "id_tags = [dc_id_tag, apiso_id_tag]\n",
    "target_uids = [\n",
    "    guid,\n",
    "    'gov.noaa.ngdc.mgg.dem:umpqua_river_p180_30m', #Umpqua Estuary\n",
    "]\n",
    "found_uids = []\n",
    "\n",
    "for record in rec_response:\n",
    "    for response in record:\n",
    "        if response.tag in id_tags and response.text in target_uids:\n",
    "            found_uids += [str(response.text)]\n",
    "\n",
    "print('Matches found: %d of %d' % (len(found_uids), len(target_uids)))\n",
    "if len(found_uids) > 0:\n",
    "    for found_uid in found_uids:\n",
    "        print('UID MATCH: %s' % (found_uid))\n"
   ]
  },
  {
   "cell_type": "code",
   "execution_count": null,
   "metadata": {},
   "outputs": [],
   "source": []
  }
 ],
 "metadata": {
  "kernelspec": {
   "display_name": "Python 3",
   "language": "python",
   "name": "python3"
  },
  "language_info": {
   "codemirror_mode": {
    "name": "ipython",
    "version": 3
   },
   "file_extension": ".py",
   "mimetype": "text/x-python",
   "name": "python",
   "nbconvert_exporter": "python",
   "pygments_lexer": "ipython3",
   "version": "3.6.9"
  }
 },
 "nbformat": 4,
 "nbformat_minor": 4
}
